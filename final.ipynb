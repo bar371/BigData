{
 "cells": [
  {
   "cell_type": "code",
   "execution_count": 1,
   "metadata": {},
   "outputs": [],
   "source": [
    "import numpy as np\n",
    "import pandas as pd\n",
    "import os\n",
    "# from pyspark.ml.feature import Imputer\n",
    "from matplotlib import pyplot as plt\n",
    "import numpy as np\n",
    "import seaborn as sns\n",
    "import pickle\n",
    "import databricks.koalas as ks\n",
    "from pyspark import SparkConf, SparkContext\n",
    "# from pyspark import sql\n",
    "# sql.setConf('spark.sql.shuffle.partitions', '10')\n",
    "# spark = SparkSession.builder.getOrCreate()\n",
    "# prev = spark.conf.get(\"spark.sql.execution.arrow.enabled\")  # Keep its default value.\n",
    "# ks.set_option(\"compute.default_index_type\", \"distributed\")  # Use default index prevent overhead.\n",
    "# import warnings\n",
    "# warnings.filterwarnings(\"ignore\")  # Ignore warnings coming from Arrow optimizations.\n",
    "\n",
    "import databricks.koalas as ks"
   ]
  },
  {
   "cell_type": "code",
   "execution_count": 2,
   "metadata": {
    "pycharm": {
     "name": "#%%\n"
    }
   },
   "outputs": [
    {
     "name": "stdout",
     "output_type": "stream",
     "text": [
      "['idc_test.csv', 'idc_train.csv']\n"
     ]
    }
   ],
   "source": [
    "print(os.listdir('data/'))\n",
    "# df_train = ks.read_csv('data/idc_train.csv')\n",
    "# df_test = ks.read_csv('data/idc_test.csv')\n",
    "\n",
    "df_train = pd.read_csv('data/idc_train.csv')\n",
    "df_test = pd.read_csv('data/idc_test.csv')"
   ]
  },
  {
   "cell_type": "code",
   "execution_count": null,
   "metadata": {},
   "outputs": [],
   "source": []
  },
  {
   "cell_type": "code",
   "execution_count": 10,
   "metadata": {},
   "outputs": [],
   "source": [
    "df_train = df_train.sample(n=10000, replace=False) # 'working with a subest of train data'"
   ]
  },
  {
   "cell_type": "code",
   "execution_count": 11,
   "metadata": {},
   "outputs": [
    {
     "name": "stdout",
     "output_type": "stream",
     "text": [
      "dropoff longitude nans:  0\n",
      "dropoff longitude nans:  0\n"
     ]
    }
   ],
   "source": [
    "def check_for_nulls(df):\n",
    "    df.isnull().any()\n",
    "    print(\"dropoff longitude nans: \", len(df['dropoff_longitude'][df['dropoff_longitude'].isnull() == True]))\n",
    "    print(\"dropoff longitude nans: \" , len(df['dropoff_latitude'][df['dropoff_latitude'].isnull() == True]))\n",
    "check_for_nulls(df_train)"
   ]
  },
  {
   "cell_type": "code",
   "execution_count": 12,
   "metadata": {},
   "outputs": [
    {
     "data": {
      "text/html": [
       "<div>\n",
       "<style scoped>\n",
       "    .dataframe tbody tr th:only-of-type {\n",
       "        vertical-align: middle;\n",
       "    }\n",
       "\n",
       "    .dataframe tbody tr th {\n",
       "        vertical-align: top;\n",
       "    }\n",
       "\n",
       "    .dataframe thead th {\n",
       "        text-align: right;\n",
       "    }\n",
       "</style>\n",
       "<table border=\"1\" class=\"dataframe\">\n",
       "  <thead>\n",
       "    <tr style=\"text-align: right;\">\n",
       "      <th></th>\n",
       "      <th>key</th>\n",
       "      <th>fare_amount</th>\n",
       "      <th>pickup_longitude</th>\n",
       "      <th>pickup_latitude</th>\n",
       "      <th>dropoff_longitude</th>\n",
       "      <th>dropoff_latitude</th>\n",
       "      <th>passenger_count</th>\n",
       "      <th>high_fare</th>\n",
       "    </tr>\n",
       "  </thead>\n",
       "  <tbody>\n",
       "    <tr>\n",
       "      <th>count</th>\n",
       "      <td>1.000000e+04</td>\n",
       "      <td>10000.000000</td>\n",
       "      <td>10000.000000</td>\n",
       "      <td>10000.000000</td>\n",
       "      <td>10000.000000</td>\n",
       "      <td>10000.000000</td>\n",
       "      <td>10000.000000</td>\n",
       "      <td>10000.0</td>\n",
       "    </tr>\n",
       "    <tr>\n",
       "      <th>mean</th>\n",
       "      <td>9.932145e+06</td>\n",
       "      <td>11.300627</td>\n",
       "      <td>-72.250082</td>\n",
       "      <td>40.261037</td>\n",
       "      <td>-72.286884</td>\n",
       "      <td>40.273836</td>\n",
       "      <td>1.674700</td>\n",
       "      <td>1.0</td>\n",
       "    </tr>\n",
       "    <tr>\n",
       "      <th>std</th>\n",
       "      <td>5.765999e+06</td>\n",
       "      <td>9.845221</td>\n",
       "      <td>28.213706</td>\n",
       "      <td>33.283966</td>\n",
       "      <td>28.167451</td>\n",
       "      <td>33.276742</td>\n",
       "      <td>1.298017</td>\n",
       "      <td>0.0</td>\n",
       "    </tr>\n",
       "    <tr>\n",
       "      <th>min</th>\n",
       "      <td>6.090000e+02</td>\n",
       "      <td>2.500000</td>\n",
       "      <td>-74.689830</td>\n",
       "      <td>-73.991960</td>\n",
       "      <td>-75.417710</td>\n",
       "      <td>-73.999756</td>\n",
       "      <td>0.000000</td>\n",
       "      <td>1.0</td>\n",
       "    </tr>\n",
       "    <tr>\n",
       "      <th>25%</th>\n",
       "      <td>4.913895e+06</td>\n",
       "      <td>6.000000</td>\n",
       "      <td>-73.991937</td>\n",
       "      <td>40.735075</td>\n",
       "      <td>-73.991490</td>\n",
       "      <td>40.733922</td>\n",
       "      <td>1.000000</td>\n",
       "      <td>1.0</td>\n",
       "    </tr>\n",
       "    <tr>\n",
       "      <th>50%</th>\n",
       "      <td>9.884914e+06</td>\n",
       "      <td>8.500000</td>\n",
       "      <td>-73.981514</td>\n",
       "      <td>40.752465</td>\n",
       "      <td>-73.980370</td>\n",
       "      <td>40.752829</td>\n",
       "      <td>1.000000</td>\n",
       "      <td>1.0</td>\n",
       "    </tr>\n",
       "    <tr>\n",
       "      <th>75%</th>\n",
       "      <td>1.497967e+07</td>\n",
       "      <td>12.500000</td>\n",
       "      <td>-73.966917</td>\n",
       "      <td>40.766524</td>\n",
       "      <td>-73.963438</td>\n",
       "      <td>40.768074</td>\n",
       "      <td>2.000000</td>\n",
       "      <td>1.0</td>\n",
       "    </tr>\n",
       "    <tr>\n",
       "      <th>max</th>\n",
       "      <td>1.998673e+07</td>\n",
       "      <td>221.660000</td>\n",
       "      <td>2551.566200</td>\n",
       "      <td>3315.078000</td>\n",
       "      <td>2551.566200</td>\n",
       "      <td>3315.078000</td>\n",
       "      <td>6.000000</td>\n",
       "      <td>1.0</td>\n",
       "    </tr>\n",
       "  </tbody>\n",
       "</table>\n",
       "</div>"
      ],
      "text/plain": [
       "                key   fare_amount  pickup_longitude  pickup_latitude  \\\n",
       "count  1.000000e+04  10000.000000      10000.000000     10000.000000   \n",
       "mean   9.932145e+06     11.300627        -72.250082        40.261037   \n",
       "std    5.765999e+06      9.845221         28.213706        33.283966   \n",
       "min    6.090000e+02      2.500000        -74.689830       -73.991960   \n",
       "25%    4.913895e+06      6.000000        -73.991937        40.735075   \n",
       "50%    9.884914e+06      8.500000        -73.981514        40.752465   \n",
       "75%    1.497967e+07     12.500000        -73.966917        40.766524   \n",
       "max    1.998673e+07    221.660000       2551.566200      3315.078000   \n",
       "\n",
       "       dropoff_longitude  dropoff_latitude  passenger_count  high_fare  \n",
       "count       10000.000000      10000.000000     10000.000000    10000.0  \n",
       "mean          -72.286884         40.273836         1.674700        1.0  \n",
       "std            28.167451         33.276742         1.298017        0.0  \n",
       "min           -75.417710        -73.999756         0.000000        1.0  \n",
       "25%           -73.991490         40.733922         1.000000        1.0  \n",
       "50%           -73.980370         40.752829         1.000000        1.0  \n",
       "75%           -73.963438         40.768074         2.000000        1.0  \n",
       "max          2551.566200       3315.078000         6.000000        1.0  "
      ]
     },
     "execution_count": 12,
     "metadata": {},
     "output_type": "execute_result"
    }
   ],
   "source": [
    "df_train.describe()"
   ]
  },
  {
   "cell_type": "code",
   "execution_count": 25,
   "metadata": {},
   "outputs": [],
   "source": [
    "def pre_process(df):\n",
    "    df['high_fare'] = df['fare_amount'].mask(df['fare_amount'] <= 10, other=0)\n",
    "    df['high_fare'] = df['high_fare'].mask(df['high_fare'] > 10, other=1)\n",
    "    \n",
    "    \n",
    "        # Todo Spark imputer doesnt work (why?) , but it's only 137 rows, we can just remove them..\n",
    "#     imputer = Imputer()\n",
    "#     imputer.setInputCols([\"dropoff_latitude\", \"dropoff_longitude\"])\n",
    "#     imputer.setOutputCols([\"dropoff_latitude\", \"dropoff_longitude\"])   \n",
    "#     imputer.setStrategy(\"median\").setMissingValue(1.0).fit(df).transform(df)\n",
    "    df.dropna(inplace=True)\n",
    "#     df = df.round({\"pickup_longitude\" : 4, 'pickup_latitude' : 4, \"dropoff_longtiude\" : 4, 'dropoff_latitude' : 4}) # TODO do we want to round it?\n",
    "\n",
    "    return df\n",
    "df_train_post = pre_process(df_train)   "
   ]
  },
  {
   "cell_type": "code",
   "execution_count": 30,
   "metadata": {},
   "outputs": [
    {
     "data": {
      "text/plain": [
       "<AxesSubplot:>"
      ]
     },
     "execution_count": 30,
     "metadata": {},
     "output_type": "execute_result"
    },
    {
     "data": {
      "image/png": "[encoded data removed]",
      "text/plain": [
       "<Figure size 432x288 with 1 Axes>"
      ]
     },
     "metadata": {
      "needs_background": "light"
     },
     "output_type": "display_data"
    }
   ],
   "source": [
    "df_train_post['high_fare'].hist()"
   ]
  },
  {
   "cell_type": "code",
   "execution_count": 14,
   "metadata": {},
   "outputs": [
    {
     "name": "stdout",
     "output_type": "stream",
     "text": [
      "dropoff longitude nans:  0\n",
      "dropoff longitude nans:  0\n"
     ]
    }
   ],
   "source": [
    "check_for_nulls(df_train_post)"
   ]
  },
  {
   "cell_type": "code",
   "execution_count": 15,
   "metadata": {},
   "outputs": [
    {
     "data": {
      "text/plain": [
       "10000"
      ]
     },
     "execution_count": 15,
     "metadata": {},
     "output_type": "execute_result"
    }
   ],
   "source": [
    "len(df_train_post)"
   ]
  },
  {
   "cell_type": "markdown",
   "metadata": {},
   "source": [
    "## EDA"
   ]
  },
  {
   "cell_type": "markdown",
   "metadata": {},
   "source": [
    "### Fare Amount , distributions and outliers removal"
   ]
  },
  {
   "cell_type": "code",
   "execution_count": 31,
   "metadata": {
    "scrolled": false
   },
   "outputs": [
    {
     "name": "stdout",
     "output_type": "stream",
     "text": [
      "Index(['key', 'fare_amount', 'pickup_datetime', 'pickup_longitude',\n",
      "       'pickup_latitude', 'dropoff_longitude', 'dropoff_latitude',\n",
      "       'passenger_count', 'high_fare', 'distance', 'day_in_month',\n",
      "       'day_in_week', 'month', 'year', 'is_weekend', 'Holiday'],\n",
      "      dtype='object')\n"
     ]
    },
    {
     "data": {
      "image/png": "[encoded data removed]",
      "text/plain": [
       "<Figure size 432x288 with 1 Axes>"
      ]
     },
     "metadata": {
      "needs_background": "light"
     },
     "output_type": "display_data"
    },
    {
     "name": "stdout",
     "output_type": "stream",
     "text": [
      "count    10000.000000\n",
      "mean        11.300627\n",
      "std          9.845221\n",
      "min          2.500000\n",
      "25%          6.000000\n",
      "50%          8.500000\n",
      "75%         12.500000\n",
      "max        221.660000\n",
      "Name: fare_amount, dtype: float64\n",
      "10000\n"
     ]
    },
    {
     "data": {
      "image/png": "[encoded data removed]",
      "text/plain": [
       "<Figure size 432x288 with 1 Axes>"
      ]
     },
     "metadata": {
      "needs_background": "light"
     },
     "output_type": "display_data"
    },
    {
     "name": "stdout",
     "output_type": "stream",
     "text": [
      "We can clearly see some outliers....\n"
     ]
    },
    {
     "data": {
      "image/png": "[encoded data removed]",
      "text/plain": [
       "<Figure size 432x288 with 1 Axes>"
      ]
     },
     "metadata": {
      "needs_background": "light"
     },
     "output_type": "display_data"
    },
    {
     "name": "stdout",
     "output_type": "stream",
     "text": [
      "We removed 0 samples\n",
      "Looking better... lets try to set the tresh at 500\n"
     ]
    },
    {
     "data": {
      "image/png": "[encoded data removed]",
      "text/plain": [
       "<Figure size 432x288 with 1 Axes>"
      ]
     },
     "metadata": {
      "needs_background": "light"
     },
     "output_type": "display_data"
    },
    {
     "name": "stdout",
     "output_type": "stream",
     "text": [
      "We removed 0 samples\n",
      "Negitive fares? doesnt seem right.. lets remove them\n"
     ]
    },
    {
     "data": {
      "image/png": "[encoded data removed]",
      "text/plain": [
       "<Figure size 432x288 with 1 Axes>"
      ]
     },
     "metadata": {
      "needs_background": "light"
     },
     "output_type": "display_data"
    },
    {
     "name": "stdout",
     "output_type": "stream",
     "text": [
      "Looks good! now lets try to take a look at the dist of high fare\n"
     ]
    },
    {
     "data": {
      "image/png": "[encoded data removed]",
      "text/plain": [
       "<Figure size 432x288 with 1 Axes>"
      ]
     },
     "metadata": {
      "needs_background": "light"
     },
     "output_type": "display_data"
    }
   ],
   "source": [
    "# sample_train = df_train_post.to_pandas().sample(frac=0.002, replace=False)\n",
    "\n",
    "print(df_train_post.columns)\n",
    "sns.histplot(data=df_train, x='fare_amount')\n",
    "plt.title(\"Fare amount historam over 10K sample\")\n",
    "plt.show()\n",
    "\n",
    "# pd_train_post = df_train.to_pandas()\n",
    "print(df_train_post['fare_amount'].describe())\n",
    "print(len(df_train_post['fare_amount']))\n",
    "sns.boxplot(x=df_train_post['fare_amount'])\n",
    "plt.show()\n",
    "print(\"We can clearly see some outliers....\")\n",
    "below_10k = df_train_post[df_train_post['fare_amount'] < 10000].dropna()\n",
    "sns.boxplot(x=below_10k['fare_amount'])\n",
    "plt.show()\n",
    "print(\"We removed {} samples\".format(len(df_train_post) - len(below_10k)))\n",
    "print(\"Looking better... lets try to set the tresh at 500\")\n",
    "below_05K = df_train_post[df_train_post['fare_amount'] < 500].dropna()\n",
    "sns.boxplot(x=below_05K['fare_amount'])\n",
    "plt.show()\n",
    "print(\"We removed {} samples\".format(len(df_train_post) - len(below_05K)))\n",
    "print(\"Negitive fares? doesnt seem right.. lets remove them\")\n",
    "below_05K = below_05K[below_05K['fare_amount'] > 0].dropna()\n",
    "sns.boxplot(x=below_05K['fare_amount'])\n",
    "plt.show()\n",
    "print(\"Looks good! now lets try to take a look at the dist of high fare\")\n",
    "below_05K = below_05K[below_05K['fare_amount'] > 0].dropna()\n",
    "sns.histplot(data=below_05K, x='high_fare')\n",
    "plt.show()\n",
    "\n",
    "# sns.distplot(df_train[''], bins = 10 )"
   ]
  },
  {
   "cell_type": "markdown",
   "metadata": {},
   "source": [
    "### Create haversine distance between pickup and dropoff"
   ]
  },
  {
   "cell_type": "code",
   "execution_count": 32,
   "metadata": {},
   "outputs": [],
   "source": [
    "def haversine_distance(row):\n",
    "    lat_p, lon_p = row['pickup_latitude'], row['pickup_longitude']\n",
    "    lat_d, lon_d = row['dropoff_latitude'], row['dropoff_longitude']\n",
    "    radius = 6371 # km\n",
    "\n",
    "    dlat = np.radians(lat_d - lat_p)\n",
    "    dlon = np.radians(lon_d - lon_p)\n",
    "    a = np.sin(dlat/2) * np.sin(dlat/2) + np.cos(np.radians(lat_p)) * np.cos(np.radians(lat_d)) * np.sin(dlon/2) * np.sin(dlon/2)\n",
    "    c = 2 * np.arctan2(np.sqrt(a), np.sqrt(1-a))\n",
    "    distance = radius * c\n",
    "\n",
    "    return distance\n",
    "# ks.set_option('compute.ops_on_diff_frames', True)\n",
    "df_train_post['distance'] = df_train_post.apply(haversine_distance, axis = 1)"
   ]
  },
  {
   "cell_type": "code",
   "execution_count": 18,
   "metadata": {},
   "outputs": [
    {
     "data": {
      "text/plain": [
       "14782088     2.967612\n",
       "9941870     19.367878\n",
       "17286922     5.075503\n",
       "12112558     4.759351\n",
       "17186024     0.000000\n",
       "Name: distance, dtype: float64"
      ]
     },
     "execution_count": 18,
     "metadata": {},
     "output_type": "execute_result"
    }
   ],
   "source": [
    "df_train_post['distance'].head()"
   ]
  },
  {
   "cell_type": "code",
   "execution_count": 19,
   "metadata": {},
   "outputs": [],
   "source": [
    "with open('df_train_post.pkl', 'wb') as f:\n",
    "    pickle.dump(df_train_post, f)"
   ]
  },
  {
   "cell_type": "code",
   "execution_count": null,
   "metadata": {},
   "outputs": [],
   "source": [
    "with open('df_train_post.pkl', 'rb') as f:\n",
    "    df_train_post = pickle.load(f)\n",
    "    "
   ]
  },
  {
   "cell_type": "markdown",
   "metadata": {},
   "source": [
    "### EDA distance "
   ]
  },
  {
   "cell_type": "code",
   "execution_count": null,
   "metadata": {},
   "outputs": [],
   "source": [
    "# pd_train_post = df_train.to_pandas()\n",
    "distance_plot = df_train_post.where(df_train_post['distance'] < 50)\n",
    "sns.histplot(data=df_train_post, x='distance', hue='high_fare', bins=100)\n",
    "plt.show()\n",
    "\n",
    "# sample_train = df_train_post.sample(n=10000, replace=False)\n",
    "\n",
    "# sns.jointplot(data=sample_train, x='distance', y='fare_amount')\n",
    "# plt.title(\"Jointplot of fare distance and amount\")\n",
    "# plt.show()\n",
    "\n",
    "# sns.jointplot(data=sample_train, x='distance', y='high_fare')\n",
    "# plt.title(\"Jointplot of fare distance and High fare\")\n",
    "# plt.show()\n"
   ]
  },
  {
   "cell_type": "markdown",
   "metadata": {},
   "source": [
    "#### Reverse coords to geo features "
   ]
  },
  {
   "cell_type": "code",
   "execution_count": null,
   "metadata": {},
   "outputs": [],
   "source": [
    "from geopy.geocoders import Nominatim\n",
    "# sqlContext.setConf('spark.sql.shuffle.partitions', '10')\n",
    "\n",
    "columns = ['road', 'neighbourhood', 'suburb', 'county', 'city', 'postcode']\n",
    "# def get_geo_features_pickup(row):\n",
    "#     geolocator = Nominatim(user_agent=\"myGeocoder\")\n",
    "#     coors = str(row['pickup_latitude']) + ', ' + str(row['pickup_longitude'])\n",
    "#     print(coors)\n",
    "#     pick_up_location = geolocator.reverse(coors)\n",
    "#     value = [0] * len(columns)\n",
    "#     if pick_up_location:\n",
    "#         value = [pick_up_location.raw.get('address').get(c) for c in columns]\n",
    "#     return value\n",
    "\n",
    "\n",
    "def get_geo_features_pickup(df):\n",
    "    print(\"her\")\n",
    "    values = []\n",
    "    geolocator = Nominatim(user_agent=\"myGeocoder\")\n",
    "    df['coors'] = df['pickup_latitude'].astype(str) + ', ' + df['pickup_longitude'].astype(str)\n",
    "    vals = df['coors']\n",
    "    batch_size = 1000\n",
    "#     executor = ThreadPoolExecutor(max_workers=10)\n",
    "#     for batch in range(0, len(df), batch_size):\n",
    "#         pick_up_locations = [geolocator.reverse(c).raw.get('address') for c in df['coors'].values]\n",
    "     \n",
    "#         value = [0] * len(columns)\n",
    "#         if pick_up_location:\n",
    "#             value = [pick_up_location.raw.get('address').get(c) for c in columns]\n",
    "#         values.append(value)\n",
    "    return pick_up_locations\n",
    "    \n",
    "\n",
    "def get_geo_features_dropoff(row):\n",
    "    geolocator = Nominatim(user_agent=\"myGeocoder\")\n",
    "    dropoff_location = geolocator.reverse(str(row['dropoff_latitude']) + ', ' +  str(row['dropoff_longitude']))\n",
    "    value = [0] * len(columns)\n",
    "    if dropoff_location:\n",
    "        \n",
    "        value = [dropoff_location.raw.get('address').get(c) for c in columns]\n",
    "    value = [dropoff_location.raw.get('address').get(c) for c in columns]\n",
    "    return value"
   ]
  },
  {
   "cell_type": "code",
   "execution_count": null,
   "metadata": {},
   "outputs": [],
   "source": [
    "%%timeit\n",
    "print(len(df_train_post))\n",
    "\n",
    "# get_geo_features_pickup(df_train_post)"
   ]
  },
  {
   "cell_type": "markdown",
   "metadata": {},
   "source": [
    "### Create Seasonal features"
   ]
  },
  {
   "cell_type": "code",
   "execution_count": null,
   "metadata": {},
   "outputs": [],
   "source": []
  },
  {
   "cell_type": "code",
   "execution_count": 47,
   "metadata": {},
   "outputs": [],
   "source": [
    "from pandas.tseries.holiday import USFederalHolidayCalendar as calendar\n",
    "df_train['pickup_datetime'] = pd.to_datetime(df_train['pickup_datetime'])\n",
    "df_train['day_in_month'] = df_train['pickup_datetime'].dt.day\n",
    "df_train['day_in_week'] = df_train['pickup_datetime'].dt.day_name()\n",
    "df_train['month'] = df_train['pickup_datetime'].dt.month\n",
    "df_train['year'] = df_train['pickup_datetime'].dt.year\n",
    "df_train['hour'] = df_train['pickup_datetime'].dt.hour\n",
    "df_train['is_weekend'] = df_train['day_in_week'].apply(lambda x: True if x in ['Friday', 'Saturday', 'Sunday'] else False)\n",
    "holidays = calendar().holidays(start = df_train['pickup_datetime'].min(), end=df_train['pickup_datetime'].max())\n",
    "df_train['holiday'] = df_train['pickup_datetime'].isin(holidays)\n"
   ]
  },
  {
   "cell_type": "code",
   "execution_count": 57,
   "metadata": {
    "scrolled": false
   },
   "outputs": [
    {
     "name": "stdout",
     "output_type": "stream",
     "text": [
      "day_in_month\n"
     ]
    },
    {
     "data": {
      "image/png": "[encoded data removed]",
      "text/plain": [
       "<Figure size 432x288 with 1 Axes>"
      ]
     },
     "metadata": {
      "needs_background": "light"
     },
     "output_type": "display_data"
    },
    {
     "name": "stdout",
     "output_type": "stream",
     "text": [
      "day_in_week\n"
     ]
    },
    {
     "data": {
      "image/png": "[encoded data removed]",
      "text/plain": [
       "<Figure size 432x288 with 1 Axes>"
      ]
     },
     "metadata": {
      "needs_background": "light"
     },
     "output_type": "display_data"
    },
    {
     "name": "stdout",
     "output_type": "stream",
     "text": [
      "month\n"
     ]
    },
    {
     "data": {
      "image/png": "[encoded data removed]",
      "text/plain": [
       "<Figure size 432x288 with 1 Axes>"
      ]
     },
     "metadata": {
      "needs_background": "light"
     },
     "output_type": "display_data"
    },
    {
     "name": "stdout",
     "output_type": "stream",
     "text": [
      "year\n"
     ]
    },
    {
     "data": {
      "image/png": "[encoded data removed]",
      "text/plain": [
       "<Figure size 432x288 with 1 Axes>"
      ]
     },
     "metadata": {
      "needs_background": "light"
     },
     "output_type": "display_data"
    },
    {
     "name": "stdout",
     "output_type": "stream",
     "text": [
      "is_weekend\n"
     ]
    },
    {
     "name": "stderr",
     "output_type": "stream",
     "text": [
      "<string>:6: RuntimeWarning: Converting input from bool to <class 'numpy.uint8'> for compatibility.\n",
      "<string>:6: RuntimeWarning: Converting input from bool to <class 'numpy.uint8'> for compatibility.\n",
      "<string>:6: RuntimeWarning: Converting input from bool to <class 'numpy.uint8'> for compatibility.\n"
     ]
    },
    {
     "data": {
      "image/png": "[encoded data removed]",
      "text/plain": [
       "<Figure size 432x288 with 1 Axes>"
      ]
     },
     "metadata": {
      "needs_background": "light"
     },
     "output_type": "display_data"
    },
    {
     "name": "stdout",
     "output_type": "stream",
     "text": [
      "holiday\n"
     ]
    },
    {
     "name": "stderr",
     "output_type": "stream",
     "text": [
      "<string>:6: RuntimeWarning: Converting input from bool to <class 'numpy.uint8'> for compatibility.\n",
      "<string>:6: RuntimeWarning: Converting input from bool to <class 'numpy.uint8'> for compatibility.\n",
      "<string>:6: RuntimeWarning: Converting input from bool to <class 'numpy.uint8'> for compatibility.\n"
     ]
    },
    {
     "data": {
      "image/png": "[encoded data removed]",
      "text/plain": [
       "<Figure size 432x288 with 1 Axes>"
      ]
     },
     "metadata": {
      "needs_background": "light"
     },
     "output_type": "display_data"
    },
    {
     "name": "stdout",
     "output_type": "stream",
     "text": [
      "hour\n"
     ]
    },
    {
     "data": {
      "image/png": "[encoded data removed]",
      "text/plain": [
       "<Figure size 432x288 with 1 Axes>"
      ]
     },
     "metadata": {
      "needs_background": "light"
     },
     "output_type": "display_data"
    }
   ],
   "source": [
    "for c in ['day_in_month', 'day_in_week', 'month', 'year', 'is_weekend', 'holiday', 'hour']:\n",
    "    print(c)\n",
    "    sns.histplot(data =df_train , x=c , hue='high_fare', multiple=\"stack\")\n",
    "    plt.show()"
   ]
  },
  {
   "cell_type": "code",
   "execution_count": 88,
   "metadata": {},
   "outputs": [
    {
     "data": {
      "image/png": "[encoded data removed]",
      "text/plain": [
       "<Figure size 432x288 with 1 Axes>"
      ]
     },
     "metadata": {
      "needs_background": "light"
     },
     "output_type": "display_data"
    }
   ],
   "source": [
    "df_train.groupby('hour')['distance'].mean().plot(kind='bar', title=' Average ride length per pick up time hour of the day')\n",
    "plt.show()"
   ]
  },
  {
   "cell_type": "code",
   "execution_count": null,
   "metadata": {},
   "outputs": [],
   "source": [
    "df_train['Holiday'].describe()"
   ]
  },
  {
   "cell_type": "code",
   "execution_count": null,
   "metadata": {},
   "outputs": [],
   "source": [
    "import folium\n",
    "\n",
    "sample_train = df_train_post.sample(n=100, replace=False)\n",
    "# create the map.\n",
    "map_pickup = folium.Map( location=[sample_train['pickup_latitude'].mean(),sample_train['pickup_longitude'].mean()])\n",
    "\n",
    "# adding the latitude and longitude points to the map.\n",
    "sample_train.apply(lambda row:folium.CircleMarker(location=[row[\"pickup_latitude\"], row[\"pickup_longitude\"]] ).add_to(map_pickup), axis=1)\n",
    "sample_train.apply(lambda row:folium.CircleMarker(location=[row[\"dropoff_latitude\"], row[\"dropoff_longitude\"]] , color='red').add_to(map_pickup), axis=1)\n",
    "\n",
    "# display the map: just ask for the object representation in juypter notebook.\n",
    "map_pickup \n",
    "\n",
    "# optional: save the map.\n",
    "map_pickup.save('map_pickup.html')"
   ]
  },
  {
   "cell_type": "code",
   "execution_count": null,
   "metadata": {
    "scrolled": false
   },
   "outputs": [],
   "source": [
    "map_pickup"
   ]
  }
 ],
 "metadata": {
  "kernelspec": {
   "display_name": "Python 3",
   "language": "python",
   "name": "python3"
  },
  "language_info": {
   "codemirror_mode": {
    "name": "ipython",
    "version": 3
   },
   "file_extension": ".py",
   "mimetype": "text/x-python",
   "name": "python",
   "nbconvert_exporter": "python",
   "pygments_lexer": "ipython3",
   "version": "3.7.9"
  },
  "toc": {
   "base_numbering": 1,
   "nav_menu": {},
   "number_sections": true,
   "sideBar": true,
   "skip_h1_title": false,
   "title_cell": "Table of Contents",
   "title_sidebar": "Contents",
   "toc_cell": false,
   "toc_position": {},
   "toc_section_display": true,
   "toc_window_display": false
  },
  "varInspector": {
   "cols": {
    "lenName": 16,
    "lenType": 16,
    "lenVar": 40
   },
   "kernels_config": {
    "python": {
     "delete_cmd_postfix": "",
     "delete_cmd_prefix": "del ",
     "library": "var_list.py",
     "varRefreshCmd": "print(var_dic_list())"
    },
    "r": {
     "delete_cmd_postfix": ") ",
     "delete_cmd_prefix": "rm(",
     "library": "var_list.r",
     "varRefreshCmd": "cat(var_dic_list()) "
    }
   },
   "types_to_exclude": [
    "module",
    "function",
    "builtin_function_or_method",
    "instance",
    "_Feature"
   ],
   "window_display": false
  }
 },
 "nbformat": 4,
 "nbformat_minor": 1
}
